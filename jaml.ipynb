{
 "cells": [
  {
   "cell_type": "code",
   "execution_count": 1,
   "id": "interpreted-gossip",
   "metadata": {},
   "outputs": [],
   "source": [
    "import jinja2\n",
    "import yaml\n",
    "import json\n",
    "from pprint import pprint"
   ]
  },
  {
   "cell_type": "code",
   "execution_count": 2,
   "id": "breeding-steal",
   "metadata": {},
   "outputs": [],
   "source": [
    "def qstr(inp):\n",
    "    if inp is None:\n",
    "        inp = \"\"\n",
    "    return json.dumps(str(inp))\n",
    "\n",
    "def str_(inp):\n",
    "    return qstr(inp)[1:-1]\n",
    "\n",
    "def json_dumps(inp):\n",
    "    return json.dumps(inp, ensure_ascii=False)\n",
    "\n",
    "JAML_FILTERS = {\n",
    "    'qstr': qstr,\n",
    "    'str': str_,\n",
    "    'json.dumps': json_dumps,\n",
    "}\n",
    "\n",
    "class Environment(jinja2.Environment):\n",
    "    def __init__(self, *args, **kwargs):\n",
    "        super().__init__(*args, **kwargs)\n",
    "        self.filters.update(JAML_FILTERS)\n",
    "\n",
    "env = Environment()\n",
    "\n",
    "def convert(template, context):\n",
    "    jinja_template = env.from_string(template)\n",
    "    rendered = jinja_template.render(context)\n",
    "    return yaml.safe_load()"
   ]
  },
  {
   "cell_type": "code",
   "execution_count": 3,
   "id": "floating-activity",
   "metadata": {},
   "outputs": [
    {
     "name": "stdout",
     "output_type": "stream",
     "text": [
      "{'jinja': {'comment': 'test  comment',\n",
      "           'cycle': [{'k': 1, 'v': 1}, {'k': 2, 'v': 1}, {'k': 3, 'v': 1}],\n",
      "           'if': {'full': 'full', 'in_key': 'in_key', 'in_value': 'in_value'},\n",
      "           'inline_if': {'full': 'full',\n",
      "                         'in_key': 'in_key',\n",
      "                         'in_value': 'in_value'}},\n",
      " 'types': {'int': {'int': 7, 'optional': 0, 'str': 7},\n",
      "           'list': {'as_json_list': ['x', {'a': 1}, 1],\n",
      "                    'as_yaml_list': ['x', {'a': 1}, 1]},\n",
      "           'objects': {'as_json_dict_with_commas': {'k1': 'v1', 'k2': 'v2'},\n",
      "                       'as_yaml_dict_without_commas': {'k1': 'v1', 'k2': 'v2'},\n",
      "                       'object_by_json': {'3': [1, 2, 3], 'a': 1}},\n",
      "           'str': {'as_object_key': {'str\\nas\\nkey:oops\\'\"': 1},\n",
      "                   'default': 'oops\\n\"',\n",
      "                   'empty': '',\n",
      "                   'inline': 'a x:7\\nx',\n",
      "                   'int': '7',\n",
      "                   'none': '',\n",
      "                   'optional': 'None',\n",
      "                   'str': 'a x:\"7\\nx'}}}\n"
     ]
    }
   ],
   "source": [
    "T = '''\n",
    "types:\n",
    "    str:\n",
    "        str: {{ 'a x:\"7\\nx' | qstr }}\n",
    "        int: {{ 7 | qstr }}\n",
    "        none: {{ None | qstr }}\n",
    "        optional: {{ (None | qstr) if False else None }}\n",
    "        default: {{ (None | qstr) if False else ('oops\\n\"' | qstr) }}\n",
    "        empty: {{ \"\" | qstr }}\n",
    "        inline: \"a {{ 'x:7\\nx' | str }}\"\n",
    "        as_object_key: { {{ \"str\\nas\\nkey:oops'\\\\\"\" | qstr }}: 1 }\n",
    "    \n",
    "    int:\n",
    "        int: {{ 7 | int }}\n",
    "        str: {{ \"7\" | int }}\n",
    "        optional: {{ None | int }}\n",
    "\n",
    "    objects:\n",
    "        as_json_dict_with_commas: {\n",
    "            k1: v1,\n",
    "            k2: v2,\n",
    "        }\n",
    "        as_yaml_dict_without_commas:\n",
    "            k1: v1\n",
    "            k2: v2\n",
    "        object_by_json: {{ {'a': 1, 3: (1, 2, 3) } | json.dumps }}\n",
    "        \n",
    "    list:\n",
    "        as_json_list: [\n",
    "            x,\n",
    "            { a: 1},\n",
    "            1,\n",
    "        ]\n",
    "        as_yaml_list:\n",
    "            - x\n",
    "            - { a: 1}\n",
    "            - 1\n",
    "\n",
    "jinja:\n",
    "    comment: test {# jinja #} comment\n",
    "    cycle:\n",
    "        {% for x in [1, 2, 3] %}\n",
    "            - {\n",
    "                k: {{ x }},\n",
    "                v: 1,\n",
    "            }\n",
    "        {% endfor %}\n",
    "\n",
    "    inline_if:\n",
    "        {{ 'in_key' if True else 'oops' }}: in_key\n",
    "        in_value: {{ 'oops' if False else 'in_value' }}\n",
    "        {{ 'full: full' if True else 'oops: oops' }}\n",
    "\n",
    "    if:\n",
    "        {% if True %}in_key{% else %}oops{% endif %}: in_key\n",
    "        in_value: {% if False %}oops{% else %}in_value{% endif %}\n",
    "        {% if True %}full: full{% else %}oops: oops{% endif %}\n",
    "\n",
    "'''\n",
    "\n",
    "# template = env.from_string(T)\n",
    "context = {'x': 7, 'a': '7', 'items': [{ 'k:1\\n': 1}]}\n",
    "\n",
    "# y = template.render(context)\n",
    "# print(y)\n",
    "# x = yaml.safe_load(y)\n",
    "# print(type(x))\n",
    "pprint(convert(T, context))"
   ]
  },
  {
   "cell_type": "code",
   "execution_count": 23,
   "id": "burning-thought",
   "metadata": {},
   "outputs": [
    {
     "name": "stdout",
     "output_type": "stream",
     "text": [
      "\"x\": \"a x:7\\nx\"\n",
      "\"y\": !!int \"7\"\n",
      "\n",
      "{'x': 'a x:7\\nx', 'y': 7}\n"
     ]
    }
   ],
   "source": [
    "x = yaml.dump({'x': 'a x:7\\nx', 'y': 7}, default_flow_style=False, explicit_start=False, default_style='\"')\n",
    "print(x)\n",
    "print(yaml.safe_load(x))"
   ]
  },
  {
   "cell_type": "code",
   "execution_count": null,
   "id": "biblical-sterling",
   "metadata": {},
   "outputs": [],
   "source": []
  },
  {
   "cell_type": "code",
   "execution_count": 167,
   "id": "million-tanzania",
   "metadata": {},
   "outputs": [
    {
     "name": "stdout",
     "output_type": "stream",
     "text": [
      "a: \"1\"\n",
      "b: \"1asdf\\nxzcv\"\n",
      "<class 'dict'>\n",
      "{'a': '1', 'b': '1asdf\\nxzcv'}\n"
     ]
    }
   ],
   "source": [
    "T = '''\n",
    "a: {{ x | qstr }}\n",
    "b: \"{{ x | str }}{{ y | str }}\"\n",
    "'''.strip()\n",
    "\n",
    "template = env.from_string(T)\n",
    "context = {'x': 1, 'y': \"asdf\\nxzcv\"}\n",
    "\n",
    "y = template.render(context)\n",
    "print(y)\n",
    "x = yaml.safe_load(y)\n",
    "print(type(x))\n",
    "pprint(x)"
   ]
  },
  {
   "cell_type": "code",
   "execution_count": null,
   "id": "arbitrary-bottom",
   "metadata": {},
   "outputs": [],
   "source": []
  }
 ],
 "metadata": {
  "kernelspec": {
   "display_name": "Python 3",
   "language": "python",
   "name": "python3"
  },
  "language_info": {
   "codemirror_mode": {
    "name": "ipython",
    "version": 3
   },
   "file_extension": ".py",
   "mimetype": "text/x-python",
   "name": "python",
   "nbconvert_exporter": "python",
   "pygments_lexer": "ipython3",
   "version": "3.9.6"
  }
 },
 "nbformat": 4,
 "nbformat_minor": 5
}
